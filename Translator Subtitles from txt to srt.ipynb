{
 "cells": [
  {
   "cell_type": "code",
   "execution_count": 1,
   "metadata": {},
   "outputs": [],
   "source": [
    "import os\n",
    "import googletrans # importa biblioteca google translator\n",
    "from googletrans import Translator # importa classe tranlator()\n",
    "translator = Translator() # instacia classe tranlator()"
   ]
  },
  {
   "cell_type": "code",
   "execution_count": 3,
   "metadata": {},
   "outputs": [],
   "source": [
    "path = f'C:\\\\Users\\\\Resource\\\\didallorto\\\\eDX_DataFatory\\\\aula_1\\\\'"
   ]
  },
  {
   "cell_type": "code",
   "execution_count": 2,
   "metadata": {},
   "outputs": [],
   "source": [
    "arq_in = 'aula_1.txt'\n",
    "arq_out = 'aula_1_br.txt'\n",
    "arq_final = 'aula_1_br.srt'"
   ]
  },
  {
   "cell_type": "code",
   "execution_count": 4,
   "metadata": {},
   "outputs": [],
   "source": [
    "mode_read = 'r' # open for reading (default)\n",
    "mode_write = 'w' # open for writing, truncating the file first\n",
    "mode_new = 'x' #create a new file and open it for writing"
   ]
  },
  {
   "cell_type": "code",
   "execution_count": 5,
   "metadata": {},
   "outputs": [],
   "source": [
    "resultpath_in = os.path.join(path, arq_in)\n",
    "resultpath_out = os.path.join(path, arq_out)\n",
    "resultpath_final = os.path.join(path, arq_final)"
   ]
  },
  {
   "cell_type": "code",
   "execution_count": 6,
   "metadata": {},
   "outputs": [],
   "source": [
    "arq = open(resultpath_in, mode_read) # abre arquivo passado pelo path + selecionado modo de leitura\n",
    "content = arq.read() # conteudo do arquivo aberto\n",
    "content = translator.translate(content, dest = 'pt')"
   ]
  },
  {
   "cell_type": "code",
   "execution_count": 7,
   "metadata": {},
   "outputs": [],
   "source": [
    "with open(resultpath_out, mode_write) as w:\n",
    "    w.write(content.text)"
   ]
  },
  {
   "cell_type": "code",
   "execution_count": 8,
   "metadata": {},
   "outputs": [],
   "source": [
    "pt = open(resultpath_out, mode_read)\n",
    "pt = pt.readlines()\n",
    "\n",
    "eng = open(resultpath_in, mode_read)\n",
    "eng = eng.readlines()"
   ]
  },
  {
   "cell_type": "code",
   "execution_count": 9,
   "metadata": {},
   "outputs": [],
   "source": [
    "listaderanges = []\n",
    "\n",
    "for i in range(1, len(eng), 4):\n",
    "    listaderanges.append(eng[i])"
   ]
  },
  {
   "cell_type": "code",
   "execution_count": 10,
   "metadata": {},
   "outputs": [],
   "source": [
    "listadeindices = []\n",
    "\n",
    "for i in range(0, len(eng), 4):\n",
    "    listadeindices.append(eng[i])"
   ]
  },
  {
   "cell_type": "code",
   "execution_count": 11,
   "metadata": {},
   "outputs": [],
   "source": [
    "listadetexto = []\n",
    "\n",
    "for i in range(2, len(pt), 4):\n",
    "    listadetexto.append(pt[i])"
   ]
  },
  {
   "cell_type": "code",
   "execution_count": 12,
   "metadata": {},
   "outputs": [],
   "source": [
    "aux = []\n",
    "\n",
    "for i in range(len(listadeindices)):\n",
    "    aux.append(listadeindices[i])\n",
    "    aux.append(listaderanges[i])\n",
    "    aux.append(listadetexto[i])\n",
    "    aux.append('\\n')"
   ]
  },
  {
   "cell_type": "code",
   "execution_count": 13,
   "metadata": {},
   "outputs": [],
   "source": [
    "legenda_final = open(resultpath_final, mode_new)"
   ]
  },
  {
   "cell_type": "code",
   "execution_count": 14,
   "metadata": {},
   "outputs": [],
   "source": [
    "for i in range(len(aux)):\n",
    "    legenda_final.write(aux[i])\n",
    "    \n",
    "legenda_final.close()\n",
    "arq.close()"
   ]
  },
  {
   "cell_type": "code",
   "execution_count": 15,
   "metadata": {},
   "outputs": [],
   "source": [
    "os.remove(os.path.join(resultpath_in))\n",
    "os.remove(os.path.join(resultpath_out))"
   ]
  }
 ],
 "metadata": {
  "kernelspec": {
   "display_name": "Python 3.7.4 64-bit ('Resource': virtualenv)",
   "language": "python",
   "name": "python37464bitresourcevirtualenv3cb8177966a3400fb8eaa211db7fe116"
  },
  "language_info": {
   "codemirror_mode": {
    "name": "ipython",
    "version": 3
   },
   "file_extension": ".py",
   "mimetype": "text/x-python",
   "name": "python",
   "nbconvert_exporter": "python",
   "pygments_lexer": "ipython3",
   "version": "3.7.4"
  }
 },
 "nbformat": 4,
 "nbformat_minor": 2
}
